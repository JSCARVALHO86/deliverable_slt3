{
  "nbformat": 4,
  "nbformat_minor": 0,
  "metadata": {
    "colab": {
      "provenance": [],
      "authorship_tag": "ABX9TyNAue4XDBYIPN7WQBKSnNWb",
      "include_colab_link": true
    },
    "kernelspec": {
      "name": "python3",
      "display_name": "Python 3"
    },
    "language_info": {
      "name": "python"
    }
  },
  "cells": [
    {
      "cell_type": "markdown",
      "metadata": {
        "id": "view-in-github",
        "colab_type": "text"
      },
      "source": [
        "<a href=\"https://colab.research.google.com/github/JSCARVALHO86/deliverable_slt3/blob/main/Untitled1.ipynb\" target=\"_parent\"><img src=\"https://colab.research.google.com/assets/colab-badge.svg\" alt=\"Open In Colab\"/></a>"
      ]
    },
    {
      "cell_type": "code",
      "source": [
        "!pip install sidetable\n",
        "import sidetable as stb\n",
        "\n",
        "from google.colab import drive\n",
        "drive.mount('/content/drive')\n",
        "import os\n",
        "import pandas as pd\n",
        "import numpy as np\n",
        "import seaborn as sns\n",
        "import matplotlib.pyplot as plt\n",
        "from sklearn.preprocessing import StandardScaler, PowerTransformer, OneHotEncoder"
      ],
      "metadata": {
        "colab": {
          "base_uri": "https://localhost:8080/"
        },
        "id": "4AmOtdoCjs_2",
        "outputId": "ca76c828-4c3d-4c5e-8ed5-9adbd8d026eb"
      },
      "execution_count": 1,
      "outputs": [
        {
          "output_type": "stream",
          "name": "stdout",
          "text": [
            "Looking in indexes: https://pypi.org/simple, https://us-python.pkg.dev/colab-wheels/public/simple/\n",
            "Collecting sidetable\n",
            "  Downloading sidetable-0.9.1-py3-none-any.whl (19 kB)\n",
            "Requirement already satisfied: pandas>=1.0 in /usr/local/lib/python3.7/dist-packages (from sidetable) (1.3.5)\n",
            "Requirement already satisfied: numpy>=1.17.3 in /usr/local/lib/python3.7/dist-packages (from pandas>=1.0->sidetable) (1.21.6)\n",
            "Requirement already satisfied: python-dateutil>=2.7.3 in /usr/local/lib/python3.7/dist-packages (from pandas>=1.0->sidetable) (2.8.2)\n",
            "Requirement already satisfied: pytz>=2017.3 in /usr/local/lib/python3.7/dist-packages (from pandas>=1.0->sidetable) (2022.6)\n",
            "Requirement already satisfied: six>=1.5 in /usr/local/lib/python3.7/dist-packages (from python-dateutil>=2.7.3->pandas>=1.0->sidetable) (1.15.0)\n",
            "Installing collected packages: sidetable\n",
            "Successfully installed sidetable-0.9.1\n",
            "Mounted at /content/drive\n"
          ]
        }
      ]
    },
    {
      "cell_type": "code",
      "source": [
        "os.listdir('drive/MyDrive/DNC - Projeto GR3/Data')\n",
        "def import_db():\n",
        "  db = pd.read_csv('drive/MyDrive/DNC - Projeto GR3/Data/CRM_half1_22-10-19.csv', encoding='latin', sep = ',')\n",
        "  db2 = pd.read_csv('drive/MyDrive/DNC - Projeto GR3/Data/CRM_half2_22-10-19.csv', encoding='latin', sep = ',')\n",
        "  db = pd.concat((db, db2))\n",
        "  db.reset_index(drop=True, inplace=True)\n",
        "  return db\n",
        "\n",
        "db = import_db()\n",
        "db.iloc[:, 0:10].head(3)"
      ],
      "metadata": {
        "colab": {
          "base_uri": "https://localhost:8080/",
          "height": 143
        },
        "id": "UWVdDDzRj3iC",
        "outputId": "ca1a08cc-0a40-44d6-91f1-702673d3cfb6"
      },
      "execution_count": 2,
      "outputs": [
        {
          "output_type": "execute_result",
          "data": {
            "text/plain": [
              "       origem  loja_id  marca_id  bonus_ecommerce dt_referencia status_loja  \\\n",
              "0  FIDELIDADE  12002.0    1573.0                0    2021-12-23       Ativo   \n",
              "1  FIDELIDADE  12004.0    1572.0                0    2021-12-06       Ativo   \n",
              "2  FIDELIDADE  12016.0    1197.0                0    2022-06-20       Ativo   \n",
              "\n",
              "    ddi  pedido_resgate_id  resgatado_valor_bonus  resgatado_valor_venda  \n",
              "0  55.0                NaN                    NaN                    NaN  \n",
              "1  55.0         51155828.0                  43.47                 196.43  \n",
              "2  55.0         77391144.0                  34.49                 195.45  "
            ],
            "text/html": [
              "\n",
              "  <div id=\"df-6d1a4244-d3fb-4930-876d-26558c48b8ff\">\n",
              "    <div class=\"colab-df-container\">\n",
              "      <div>\n",
              "<style scoped>\n",
              "    .dataframe tbody tr th:only-of-type {\n",
              "        vertical-align: middle;\n",
              "    }\n",
              "\n",
              "    .dataframe tbody tr th {\n",
              "        vertical-align: top;\n",
              "    }\n",
              "\n",
              "    .dataframe thead th {\n",
              "        text-align: right;\n",
              "    }\n",
              "</style>\n",
              "<table border=\"1\" class=\"dataframe\">\n",
              "  <thead>\n",
              "    <tr style=\"text-align: right;\">\n",
              "      <th></th>\n",
              "      <th>origem</th>\n",
              "      <th>loja_id</th>\n",
              "      <th>marca_id</th>\n",
              "      <th>bonus_ecommerce</th>\n",
              "      <th>dt_referencia</th>\n",
              "      <th>status_loja</th>\n",
              "      <th>ddi</th>\n",
              "      <th>pedido_resgate_id</th>\n",
              "      <th>resgatado_valor_bonus</th>\n",
              "      <th>resgatado_valor_venda</th>\n",
              "    </tr>\n",
              "  </thead>\n",
              "  <tbody>\n",
              "    <tr>\n",
              "      <th>0</th>\n",
              "      <td>FIDELIDADE</td>\n",
              "      <td>12002.0</td>\n",
              "      <td>1573.0</td>\n",
              "      <td>0</td>\n",
              "      <td>2021-12-23</td>\n",
              "      <td>Ativo</td>\n",
              "      <td>55.0</td>\n",
              "      <td>NaN</td>\n",
              "      <td>NaN</td>\n",
              "      <td>NaN</td>\n",
              "    </tr>\n",
              "    <tr>\n",
              "      <th>1</th>\n",
              "      <td>FIDELIDADE</td>\n",
              "      <td>12004.0</td>\n",
              "      <td>1572.0</td>\n",
              "      <td>0</td>\n",
              "      <td>2021-12-06</td>\n",
              "      <td>Ativo</td>\n",
              "      <td>55.0</td>\n",
              "      <td>51155828.0</td>\n",
              "      <td>43.47</td>\n",
              "      <td>196.43</td>\n",
              "    </tr>\n",
              "    <tr>\n",
              "      <th>2</th>\n",
              "      <td>FIDELIDADE</td>\n",
              "      <td>12016.0</td>\n",
              "      <td>1197.0</td>\n",
              "      <td>0</td>\n",
              "      <td>2022-06-20</td>\n",
              "      <td>Ativo</td>\n",
              "      <td>55.0</td>\n",
              "      <td>77391144.0</td>\n",
              "      <td>34.49</td>\n",
              "      <td>195.45</td>\n",
              "    </tr>\n",
              "  </tbody>\n",
              "</table>\n",
              "</div>\n",
              "      <button class=\"colab-df-convert\" onclick=\"convertToInteractive('df-6d1a4244-d3fb-4930-876d-26558c48b8ff')\"\n",
              "              title=\"Convert this dataframe to an interactive table.\"\n",
              "              style=\"display:none;\">\n",
              "        \n",
              "  <svg xmlns=\"http://www.w3.org/2000/svg\" height=\"24px\"viewBox=\"0 0 24 24\"\n",
              "       width=\"24px\">\n",
              "    <path d=\"M0 0h24v24H0V0z\" fill=\"none\"/>\n",
              "    <path d=\"M18.56 5.44l.94 2.06.94-2.06 2.06-.94-2.06-.94-.94-2.06-.94 2.06-2.06.94zm-11 1L8.5 8.5l.94-2.06 2.06-.94-2.06-.94L8.5 2.5l-.94 2.06-2.06.94zm10 10l.94 2.06.94-2.06 2.06-.94-2.06-.94-.94-2.06-.94 2.06-2.06.94z\"/><path d=\"M17.41 7.96l-1.37-1.37c-.4-.4-.92-.59-1.43-.59-.52 0-1.04.2-1.43.59L10.3 9.45l-7.72 7.72c-.78.78-.78 2.05 0 2.83L4 21.41c.39.39.9.59 1.41.59.51 0 1.02-.2 1.41-.59l7.78-7.78 2.81-2.81c.8-.78.8-2.07 0-2.86zM5.41 20L4 18.59l7.72-7.72 1.47 1.35L5.41 20z\"/>\n",
              "  </svg>\n",
              "      </button>\n",
              "      \n",
              "  <style>\n",
              "    .colab-df-container {\n",
              "      display:flex;\n",
              "      flex-wrap:wrap;\n",
              "      gap: 12px;\n",
              "    }\n",
              "\n",
              "    .colab-df-convert {\n",
              "      background-color: #E8F0FE;\n",
              "      border: none;\n",
              "      border-radius: 50%;\n",
              "      cursor: pointer;\n",
              "      display: none;\n",
              "      fill: #1967D2;\n",
              "      height: 32px;\n",
              "      padding: 0 0 0 0;\n",
              "      width: 32px;\n",
              "    }\n",
              "\n",
              "    .colab-df-convert:hover {\n",
              "      background-color: #E2EBFA;\n",
              "      box-shadow: 0px 1px 2px rgba(60, 64, 67, 0.3), 0px 1px 3px 1px rgba(60, 64, 67, 0.15);\n",
              "      fill: #174EA6;\n",
              "    }\n",
              "\n",
              "    [theme=dark] .colab-df-convert {\n",
              "      background-color: #3B4455;\n",
              "      fill: #D2E3FC;\n",
              "    }\n",
              "\n",
              "    [theme=dark] .colab-df-convert:hover {\n",
              "      background-color: #434B5C;\n",
              "      box-shadow: 0px 1px 3px 1px rgba(0, 0, 0, 0.15);\n",
              "      filter: drop-shadow(0px 1px 2px rgba(0, 0, 0, 0.3));\n",
              "      fill: #FFFFFF;\n",
              "    }\n",
              "  </style>\n",
              "\n",
              "      <script>\n",
              "        const buttonEl =\n",
              "          document.querySelector('#df-6d1a4244-d3fb-4930-876d-26558c48b8ff button.colab-df-convert');\n",
              "        buttonEl.style.display =\n",
              "          google.colab.kernel.accessAllowed ? 'block' : 'none';\n",
              "\n",
              "        async function convertToInteractive(key) {\n",
              "          const element = document.querySelector('#df-6d1a4244-d3fb-4930-876d-26558c48b8ff');\n",
              "          const dataTable =\n",
              "            await google.colab.kernel.invokeFunction('convertToInteractive',\n",
              "                                                     [key], {});\n",
              "          if (!dataTable) return;\n",
              "\n",
              "          const docLinkHtml = 'Like what you see? Visit the ' +\n",
              "            '<a target=\"_blank\" href=https://colab.research.google.com/notebooks/data_table.ipynb>data table notebook</a>'\n",
              "            + ' to learn more about interactive tables.';\n",
              "          element.innerHTML = '';\n",
              "          dataTable['output_type'] = 'display_data';\n",
              "          await google.colab.output.renderOutput(dataTable, element);\n",
              "          const docLink = document.createElement('div');\n",
              "          docLink.innerHTML = docLinkHtml;\n",
              "          element.appendChild(docLink);\n",
              "        }\n",
              "      </script>\n",
              "    </div>\n",
              "  </div>\n",
              "  "
            ]
          },
          "metadata": {},
          "execution_count": 2
        }
      ]
    },
    {
      "cell_type": "code",
      "source": [
        "db = db[db['origem']== 'FIDELIDADE']"
      ],
      "metadata": {
        "id": "_sce8MDIVArd"
      },
      "execution_count": 3,
      "outputs": []
    },
    {
      "cell_type": "code",
      "source": [
        "db.count(axis=0)"
      ],
      "metadata": {
        "colab": {
          "base_uri": "https://localhost:8080/"
        },
        "id": "IyfWK7mSkghS",
        "outputId": "4f0ac1cc-bbe2-4a58-8ac1-5aacd67244d7"
      },
      "execution_count": 4,
      "outputs": [
        {
          "output_type": "execute_result",
          "data": {
            "text/plain": [
              "origem                                 13578826\n",
              "loja_id                                13578822\n",
              "marca_id                               13543325\n",
              "bonus_ecommerce                        13578826\n",
              "dt_referencia                          13578472\n",
              "status_loja                            13578807\n",
              "ddi                                    13578807\n",
              "pedido_resgate_id                       8265179\n",
              "resgatado_valor_bonus                   8268150\n",
              "resgatado_valor_venda                   8265179\n",
              "resgatado_valor_primeira_compra         8268185\n",
              "resgatado_valor_receita_incremental     8265179\n",
              "resgatado_quantidade                    8268281\n",
              "gerados_valor_bonus                     3972027\n",
              "gerados_valor_venda                     3972037\n",
              "gerados_quantidade                      3972039\n",
              "gerados_perdidos_quantidade             3695037\n",
              "perdidos_valor_bonus                    3567053\n",
              "perdidos_quantidade                     3567076\n",
              "vendas_valor_venda                      3086125\n",
              "vendas_quantidade                       3086125\n",
              "dtype: int64"
            ]
          },
          "metadata": {},
          "execution_count": 4
        }
      ]
    },
    {
      "cell_type": "code",
      "source": [
        "#Formando base de dados com dados de uma unitários\n",
        "#Nosso Sponsor falou que a coluna \"pedido_resgate_id\" representa a entrada de uma compra pessoal no programa da CRM. Com isso entendemos que os dados das outras colunas, não são sumarizados.\n",
        "dbUnitario = (db['pedido_resgate_id']>0)\n",
        "db[dbUnitario].count().sort_values(ascending=False)\n"
      ],
      "metadata": {
        "colab": {
          "base_uri": "https://localhost:8080/"
        },
        "id": "nDfrimxllnD9",
        "outputId": "96f65394-8929-4f5d-f4b2-4eacfa4b92fb"
      },
      "execution_count": 5,
      "outputs": [
        {
          "output_type": "execute_result",
          "data": {
            "text/plain": [
              "origem                                 8265179\n",
              "resgatado_quantidade                   8265179\n",
              "bonus_ecommerce                        8265179\n",
              "dt_referencia                          8265179\n",
              "pedido_resgate_id                      8265179\n",
              "resgatado_valor_receita_incremental    8265179\n",
              "resgatado_valor_venda                  8265179\n",
              "loja_id                                8265178\n",
              "status_loja                            8265178\n",
              "ddi                                    8265178\n",
              "resgatado_valor_primeira_compra        8265083\n",
              "resgatado_valor_bonus                  8265048\n",
              "marca_id                               8251588\n",
              "gerados_valor_bonus                          0\n",
              "gerados_valor_venda                          0\n",
              "gerados_quantidade                           0\n",
              "gerados_perdidos_quantidade                  0\n",
              "perdidos_valor_bonus                         0\n",
              "perdidos_quantidade                          0\n",
              "vendas_valor_venda                           0\n",
              "vendas_quantidade                            0\n",
              "dtype: int64"
            ]
          },
          "metadata": {},
          "execution_count": 5
        }
      ]
    },
    {
      "cell_type": "code",
      "source": [
        "#Dropar (tirar) colunas que não trouxeram dados após o filtro da coluna 'pedido_resgate_id' >0\n",
        "dbUnitario = db[db['pedido_resgate_id']>0]\n",
        "dbUnitario.drop(columns = [\n",
        "    'gerados_valor_bonus',\n",
        "    'gerados_valor_venda',\n",
        "    'gerados_quantidade',\n",
        "    'gerados_perdidos_quantidade',\n",
        "    'perdidos_valor_bonus',\n",
        "    'perdidos_quantidade',\n",
        "    'vendas_valor_venda',\n",
        "    'vendas_quantidade'\n",
        "], inplace=True)"
      ],
      "metadata": {
        "colab": {
          "base_uri": "https://localhost:8080/"
        },
        "id": "3O8jZwJSyTa_",
        "outputId": "30e86d40-f1fd-416b-b0a6-ab6ace0f24b3"
      },
      "execution_count": 6,
      "outputs": [
        {
          "output_type": "stream",
          "name": "stderr",
          "text": [
            "/usr/local/lib/python3.7/dist-packages/pandas/core/frame.py:4913: SettingWithCopyWarning: \n",
            "A value is trying to be set on a copy of a slice from a DataFrame\n",
            "\n",
            "See the caveats in the documentation: https://pandas.pydata.org/pandas-docs/stable/user_guide/indexing.html#returning-a-view-versus-a-copy\n",
            "  errors=errors,\n"
          ]
        }
      ]
    },
    {
      "cell_type": "code",
      "source": [
        "#Dropar (tirar) colunas de identificadores unitários\n",
        "dbUnitario.drop(columns = [\n",
        "    'marca_id',           #retirado pq podem existem casos em que o cliente foi resgatar bonus, porém a marca ainda não tinha seu cadastro.\n",
        "    'ddi',                #segundo o sponsor sem relevancia para o modelo\n",
        "    'pedido_resgate_id'   #identificador\n",
        "], inplace=True)"
      ],
      "metadata": {
        "id": "DAfi5VvtYy7N"
      },
      "execution_count": 7,
      "outputs": []
    },
    {
      "cell_type": "code",
      "source": [
        "#dbUnitario = db.pedido_resgate_id.filter(like=0)\n",
        "occur = pd.DataFrame(dbUnitario.groupby(['dt_referencia']).size().sort_values( ascending = False))\n",
        "occur.rename(columns = {0 : 'Qtd_Occur'}, inplace = True)\n",
        "occur\n",
        "file_name = 'occur.xlsx'\n",
        "occur.to_excel(file_name)"
      ],
      "metadata": {
        "id": "gmMhBTaWdyjf"
      },
      "execution_count": 8,
      "outputs": []
    },
    {
      "cell_type": "code",
      "source": [
        "dbUnitario.info(verbose = True,show_counts = True)"
      ],
      "metadata": {
        "colab": {
          "base_uri": "https://localhost:8080/"
        },
        "id": "p56GzrDGeoq1",
        "outputId": "a260e84f-a406-4fe3-8889-58a45671ea37"
      },
      "execution_count": 9,
      "outputs": [
        {
          "output_type": "stream",
          "name": "stdout",
          "text": [
            "<class 'pandas.core.frame.DataFrame'>\n",
            "Int64Index: 8265179 entries, 1 to 15397014\n",
            "Data columns (total 10 columns):\n",
            " #   Column                               Non-Null Count    Dtype  \n",
            "---  ------                               --------------    -----  \n",
            " 0   origem                               8265179 non-null  object \n",
            " 1   loja_id                              8265178 non-null  float64\n",
            " 2   bonus_ecommerce                      8265179 non-null  int64  \n",
            " 3   dt_referencia                        8265179 non-null  object \n",
            " 4   status_loja                          8265178 non-null  object \n",
            " 5   resgatado_valor_bonus                8265048 non-null  float64\n",
            " 6   resgatado_valor_venda                8265179 non-null  float64\n",
            " 7   resgatado_valor_primeira_compra      8265083 non-null  float64\n",
            " 8   resgatado_valor_receita_incremental  8265179 non-null  float64\n",
            " 9   resgatado_quantidade                 8265179 non-null  float64\n",
            "dtypes: float64(6), int64(1), object(3)\n",
            "memory usage: 693.6+ MB\n"
          ]
        }
      ]
    },
    {
      "cell_type": "code",
      "source": [
        "dbLinhas_zero = dbUnitario[dbUnitario['resgatado_valor_bonus'].isnull()]\n",
        "#dbLinhas_zero['resgatado_valor_bonus'].value_counts()\n",
        "dbLinhas_zero.to_excel('resgatado_valor_bonus_zerado.xlsx')\n",
        "\n"
      ],
      "metadata": {
        "id": "4sf4EZhoppdM"
      },
      "execution_count": 20,
      "outputs": []
    }
  ]
}